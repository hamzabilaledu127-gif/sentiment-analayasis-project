{
 "cells": [
  {
   "cell_type": "code",
   "execution_count": 2,
   "id": "5daff206",
   "metadata": {},
   "outputs": [
    {
     "name": "stdout",
     "output_type": "stream",
     "text": [
      "                                                text emotion_type\n",
      "0                         አይዞን ይኤ  አልፎ መልካም ዘመን ይመጣል    Happiness\n",
      "1         ዓመት በኋላ በዓለም   ሃያላን አገሮች አንዷ ኢትዮጵያ ናት         Happiness\n",
      "2                                ምናልባት ይችን ስያሜ አታቃትም        Anger\n",
      "3      ሀገራችን ችግር   በቅድሚያ ሀገርዎትን ሰላም ያድርጉ  የዛ ምስኪን...      Sadness\n",
      "4                                ለኛ ለኢትዮጽያን ቀልድ  ይቁም        Anger\n",
      "Unique labels: ['Happiness' 'Anger' 'Sadness' 'Disgust']\n"
     ]
    }
   ],
   "source": [
    "import pandas as pd\n",
    "\n",
    "# Load the dataset\n",
    "file_path = 'dataset_new.xlsx'\n",
    "df = pd.read_excel(file_path)\n",
    "\n",
    "# Print the first few rows of the DataFrame to understand its structure\n",
    "print(df.head())\n",
    "\n",
    "# Assuming the labels are in a column named 'M-Class'\n",
    "# Adjust the column name if it is different\n",
    "column_name = 'emotion_type'\n",
    "if column_name in df.columns:\n",
    "    # Print the unique values of the 'emotion_type' column\n",
    "    print(\"Unique labels:\", df[column_name].unique())\n",
    "else:\n",
    "    print(f\"Column '{column_name}' does not exist in the DataFrame.\")\n",
    "\n",
    "\n"
   ]
  },
  {
   "cell_type": "code",
   "execution_count": null,
   "id": "25c6141d",
   "metadata": {},
   "outputs": [],
   "source": []
  }
 ],
 "metadata": {
  "kernelspec": {
   "display_name": "Python 3 (ipykernel)",
   "language": "python",
   "name": "python3"
  },
  "language_info": {
   "codemirror_mode": {
    "name": "ipython",
    "version": 3
   },
   "file_extension": ".py",
   "mimetype": "text/x-python",
   "name": "python",
   "nbconvert_exporter": "python",
   "pygments_lexer": "ipython3",
   "version": "3.11.7"
  }
 },
 "nbformat": 4,
 "nbformat_minor": 5
}
